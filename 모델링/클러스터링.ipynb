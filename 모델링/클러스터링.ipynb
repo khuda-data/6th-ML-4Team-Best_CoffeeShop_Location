{
  "nbformat": 4,
  "nbformat_minor": 0,
  "metadata": {
    "colab": {
      "provenance": [],
      "gpuType": "T4"
    },
    "kernelspec": {
      "name": "python3",
      "display_name": "Python 3"
    },
    "language_info": {
      "name": "python"
    },
    "accelerator": "GPU"
  },
  "cells": [
    {
      "cell_type": "code",
      "execution_count": 1,
      "metadata": {
        "colab": {
          "base_uri": "https://localhost:8080/",
          "height": 92
        },
        "id": "hcaSG2xo7X9_",
        "outputId": "369f2b5d-200b-4652-e770-4eb6ea022a33"
      },
      "outputs": [
        {
          "output_type": "display_data",
          "data": {
            "text/plain": [
              "<IPython.core.display.HTML object>"
            ],
            "text/html": [
              "\n",
              "     <input type=\"file\" id=\"files-34b833b3-5501-4ff5-9616-5182bf9b3d2a\" name=\"files[]\" multiple disabled\n",
              "        style=\"border:none\" />\n",
              "     <output id=\"result-34b833b3-5501-4ff5-9616-5182bf9b3d2a\">\n",
              "      Upload widget is only available when the cell has been executed in the\n",
              "      current browser session. Please rerun this cell to enable.\n",
              "      </output>\n",
              "      <script>// Copyright 2017 Google LLC\n",
              "//\n",
              "// Licensed under the Apache License, Version 2.0 (the \"License\");\n",
              "// you may not use this file except in compliance with the License.\n",
              "// You may obtain a copy of the License at\n",
              "//\n",
              "//      http://www.apache.org/licenses/LICENSE-2.0\n",
              "//\n",
              "// Unless required by applicable law or agreed to in writing, software\n",
              "// distributed under the License is distributed on an \"AS IS\" BASIS,\n",
              "// WITHOUT WARRANTIES OR CONDITIONS OF ANY KIND, either express or implied.\n",
              "// See the License for the specific language governing permissions and\n",
              "// limitations under the License.\n",
              "\n",
              "/**\n",
              " * @fileoverview Helpers for google.colab Python module.\n",
              " */\n",
              "(function(scope) {\n",
              "function span(text, styleAttributes = {}) {\n",
              "  const element = document.createElement('span');\n",
              "  element.textContent = text;\n",
              "  for (const key of Object.keys(styleAttributes)) {\n",
              "    element.style[key] = styleAttributes[key];\n",
              "  }\n",
              "  return element;\n",
              "}\n",
              "\n",
              "// Max number of bytes which will be uploaded at a time.\n",
              "const MAX_PAYLOAD_SIZE = 100 * 1024;\n",
              "\n",
              "function _uploadFiles(inputId, outputId) {\n",
              "  const steps = uploadFilesStep(inputId, outputId);\n",
              "  const outputElement = document.getElementById(outputId);\n",
              "  // Cache steps on the outputElement to make it available for the next call\n",
              "  // to uploadFilesContinue from Python.\n",
              "  outputElement.steps = steps;\n",
              "\n",
              "  return _uploadFilesContinue(outputId);\n",
              "}\n",
              "\n",
              "// This is roughly an async generator (not supported in the browser yet),\n",
              "// where there are multiple asynchronous steps and the Python side is going\n",
              "// to poll for completion of each step.\n",
              "// This uses a Promise to block the python side on completion of each step,\n",
              "// then passes the result of the previous step as the input to the next step.\n",
              "function _uploadFilesContinue(outputId) {\n",
              "  const outputElement = document.getElementById(outputId);\n",
              "  const steps = outputElement.steps;\n",
              "\n",
              "  const next = steps.next(outputElement.lastPromiseValue);\n",
              "  return Promise.resolve(next.value.promise).then((value) => {\n",
              "    // Cache the last promise value to make it available to the next\n",
              "    // step of the generator.\n",
              "    outputElement.lastPromiseValue = value;\n",
              "    return next.value.response;\n",
              "  });\n",
              "}\n",
              "\n",
              "/**\n",
              " * Generator function which is called between each async step of the upload\n",
              " * process.\n",
              " * @param {string} inputId Element ID of the input file picker element.\n",
              " * @param {string} outputId Element ID of the output display.\n",
              " * @return {!Iterable<!Object>} Iterable of next steps.\n",
              " */\n",
              "function* uploadFilesStep(inputId, outputId) {\n",
              "  const inputElement = document.getElementById(inputId);\n",
              "  inputElement.disabled = false;\n",
              "\n",
              "  const outputElement = document.getElementById(outputId);\n",
              "  outputElement.innerHTML = '';\n",
              "\n",
              "  const pickedPromise = new Promise((resolve) => {\n",
              "    inputElement.addEventListener('change', (e) => {\n",
              "      resolve(e.target.files);\n",
              "    });\n",
              "  });\n",
              "\n",
              "  const cancel = document.createElement('button');\n",
              "  inputElement.parentElement.appendChild(cancel);\n",
              "  cancel.textContent = 'Cancel upload';\n",
              "  const cancelPromise = new Promise((resolve) => {\n",
              "    cancel.onclick = () => {\n",
              "      resolve(null);\n",
              "    };\n",
              "  });\n",
              "\n",
              "  // Wait for the user to pick the files.\n",
              "  const files = yield {\n",
              "    promise: Promise.race([pickedPromise, cancelPromise]),\n",
              "    response: {\n",
              "      action: 'starting',\n",
              "    }\n",
              "  };\n",
              "\n",
              "  cancel.remove();\n",
              "\n",
              "  // Disable the input element since further picks are not allowed.\n",
              "  inputElement.disabled = true;\n",
              "\n",
              "  if (!files) {\n",
              "    return {\n",
              "      response: {\n",
              "        action: 'complete',\n",
              "      }\n",
              "    };\n",
              "  }\n",
              "\n",
              "  for (const file of files) {\n",
              "    const li = document.createElement('li');\n",
              "    li.append(span(file.name, {fontWeight: 'bold'}));\n",
              "    li.append(span(\n",
              "        `(${file.type || 'n/a'}) - ${file.size} bytes, ` +\n",
              "        `last modified: ${\n",
              "            file.lastModifiedDate ? file.lastModifiedDate.toLocaleDateString() :\n",
              "                                    'n/a'} - `));\n",
              "    const percent = span('0% done');\n",
              "    li.appendChild(percent);\n",
              "\n",
              "    outputElement.appendChild(li);\n",
              "\n",
              "    const fileDataPromise = new Promise((resolve) => {\n",
              "      const reader = new FileReader();\n",
              "      reader.onload = (e) => {\n",
              "        resolve(e.target.result);\n",
              "      };\n",
              "      reader.readAsArrayBuffer(file);\n",
              "    });\n",
              "    // Wait for the data to be ready.\n",
              "    let fileData = yield {\n",
              "      promise: fileDataPromise,\n",
              "      response: {\n",
              "        action: 'continue',\n",
              "      }\n",
              "    };\n",
              "\n",
              "    // Use a chunked sending to avoid message size limits. See b/62115660.\n",
              "    let position = 0;\n",
              "    do {\n",
              "      const length = Math.min(fileData.byteLength - position, MAX_PAYLOAD_SIZE);\n",
              "      const chunk = new Uint8Array(fileData, position, length);\n",
              "      position += length;\n",
              "\n",
              "      const base64 = btoa(String.fromCharCode.apply(null, chunk));\n",
              "      yield {\n",
              "        response: {\n",
              "          action: 'append',\n",
              "          file: file.name,\n",
              "          data: base64,\n",
              "        },\n",
              "      };\n",
              "\n",
              "      let percentDone = fileData.byteLength === 0 ?\n",
              "          100 :\n",
              "          Math.round((position / fileData.byteLength) * 100);\n",
              "      percent.textContent = `${percentDone}% done`;\n",
              "\n",
              "    } while (position < fileData.byteLength);\n",
              "  }\n",
              "\n",
              "  // All done.\n",
              "  yield {\n",
              "    response: {\n",
              "      action: 'complete',\n",
              "    }\n",
              "  };\n",
              "}\n",
              "\n",
              "scope.google = scope.google || {};\n",
              "scope.google.colab = scope.google.colab || {};\n",
              "scope.google.colab._files = {\n",
              "  _uploadFiles,\n",
              "  _uploadFilesContinue,\n",
              "};\n",
              "})(self);\n",
              "</script> "
            ]
          },
          "metadata": {}
        },
        {
          "output_type": "stream",
          "name": "stdout",
          "text": [
            "Saving filtered_data(고가형)(찐최종).csv to filtered_data(고가형)(찐최종).csv\n",
            "dict_keys(['filtered_data(고가형)(찐최종).csv'])\n"
          ]
        }
      ],
      "source": [
        "from google.colab import files\n",
        "uploaded = files.upload()\n",
        "print(uploaded.keys())"
      ]
    },
    {
      "cell_type": "code",
      "source": [
        "import pandas as pd\n",
        "from sklearn.cluster import KMeans\n",
        "from sklearn.preprocessing import StandardScaler\n",
        "import matplotlib.pyplot as plt\n",
        "import seaborn as sns\n",
        "\n",
        "grid = pd.read_csv('filtered_data(고가형)(찐최종).csv')\n",
        "#공기업 + 대기업 해서 기업 열 만들기\n",
        "grid['com_count'] = grid['lcom_count'] + grid['ccom_count']\n",
        "# 랜덤포레스트로 선택한 feature들\n",
        "features = ['academy_count','univ_count', 'subway_count', 'apt_count', 'com_count', 'lcafe_count', 'hcafe_count']\n",
        "\n",
        "data = grid[features]\n",
        "\n",
        "# 데이터 표준화\n",
        "scaler = StandardScaler()\n",
        "data_scaled = scaler.fit_transform(data)\n"
      ],
      "metadata": {
        "id": "93eHB1q57yTL"
      },
      "execution_count": 2,
      "outputs": []
    },
    {
      "cell_type": "code",
      "source": [
        "# 엘보우 방법\n",
        "inertia = []\n",
        "k_range = range(1, 11)\n",
        "for k in k_range:\n",
        "    kmeans = KMeans(n_clusters=k, random_state=42)\n",
        "    kmeans.fit(data_scaled)\n",
        "    inertia.append(kmeans.inertia_)\n",
        "\n",
        "plt.figure(figsize=(8, 6))\n",
        "plt.plot(k_range, inertia, marker='o')\n",
        "plt.xlabel('Number of clusters')\n",
        "plt.ylabel('Inertia')\n",
        "plt.title('Elbow Method for Optimal Number of Clusters')\n",
        "plt.show()\n"
      ],
      "metadata": {
        "colab": {
          "base_uri": "https://localhost:8080/",
          "height": 941
        },
        "id": "kmM0AVnMle-T",
        "outputId": "5fd66eae-c010-41a6-dfd0-dc3dd9aa35e5"
      },
      "execution_count": 3,
      "outputs": [
        {
          "output_type": "stream",
          "name": "stderr",
          "text": [
            "/usr/local/lib/python3.10/dist-packages/sklearn/cluster/_kmeans.py:1416: FutureWarning: The default value of `n_init` will change from 10 to 'auto' in 1.4. Set the value of `n_init` explicitly to suppress the warning\n",
            "  super()._check_params_vs_input(X, default_n_init=10)\n",
            "/usr/local/lib/python3.10/dist-packages/sklearn/cluster/_kmeans.py:1416: FutureWarning: The default value of `n_init` will change from 10 to 'auto' in 1.4. Set the value of `n_init` explicitly to suppress the warning\n",
            "  super()._check_params_vs_input(X, default_n_init=10)\n",
            "/usr/local/lib/python3.10/dist-packages/sklearn/cluster/_kmeans.py:1416: FutureWarning: The default value of `n_init` will change from 10 to 'auto' in 1.4. Set the value of `n_init` explicitly to suppress the warning\n",
            "  super()._check_params_vs_input(X, default_n_init=10)\n",
            "/usr/local/lib/python3.10/dist-packages/sklearn/cluster/_kmeans.py:1416: FutureWarning: The default value of `n_init` will change from 10 to 'auto' in 1.4. Set the value of `n_init` explicitly to suppress the warning\n",
            "  super()._check_params_vs_input(X, default_n_init=10)\n",
            "/usr/local/lib/python3.10/dist-packages/sklearn/cluster/_kmeans.py:1416: FutureWarning: The default value of `n_init` will change from 10 to 'auto' in 1.4. Set the value of `n_init` explicitly to suppress the warning\n",
            "  super()._check_params_vs_input(X, default_n_init=10)\n",
            "/usr/local/lib/python3.10/dist-packages/sklearn/cluster/_kmeans.py:1416: FutureWarning: The default value of `n_init` will change from 10 to 'auto' in 1.4. Set the value of `n_init` explicitly to suppress the warning\n",
            "  super()._check_params_vs_input(X, default_n_init=10)\n",
            "/usr/local/lib/python3.10/dist-packages/sklearn/cluster/_kmeans.py:1416: FutureWarning: The default value of `n_init` will change from 10 to 'auto' in 1.4. Set the value of `n_init` explicitly to suppress the warning\n",
            "  super()._check_params_vs_input(X, default_n_init=10)\n",
            "/usr/local/lib/python3.10/dist-packages/sklearn/cluster/_kmeans.py:1416: FutureWarning: The default value of `n_init` will change from 10 to 'auto' in 1.4. Set the value of `n_init` explicitly to suppress the warning\n",
            "  super()._check_params_vs_input(X, default_n_init=10)\n",
            "/usr/local/lib/python3.10/dist-packages/sklearn/cluster/_kmeans.py:1416: FutureWarning: The default value of `n_init` will change from 10 to 'auto' in 1.4. Set the value of `n_init` explicitly to suppress the warning\n",
            "  super()._check_params_vs_input(X, default_n_init=10)\n",
            "/usr/local/lib/python3.10/dist-packages/sklearn/cluster/_kmeans.py:1416: FutureWarning: The default value of `n_init` will change from 10 to 'auto' in 1.4. Set the value of `n_init` explicitly to suppress the warning\n",
            "  super()._check_params_vs_input(X, default_n_init=10)\n"
          ]
        },
        {
          "output_type": "display_data",
          "data": {
            "text/plain": [
              "<Figure size 800x600 with 1 Axes>"
            ],
            "image/png": "[encoded data removed]"
          },
          "metadata": {}
        }
      ]
    },
    {
      "cell_type": "code",
      "source": [
        "from sklearn.metrics import silhouette_score\n",
        "import matplotlib.pyplot as plt\n",
        "\n",
        "# 실루엣 스코어를 저장할 리스트\n",
        "silhouette_scores = []\n",
        "\n",
        "# 클러스터 수를 2부터 10까지 변경하며 실루엣 스코어 계산\n",
        "for k in range(2, 11):\n",
        "    kmeans = KMeans(n_clusters=k, random_state=42)\n",
        "    labels = kmeans.fit_predict(data_scaled)\n",
        "    silhouette_avg = silhouette_score(data_scaled, labels)\n",
        "    silhouette_scores.append(silhouette_avg)\n",
        "\n",
        "# 실루엣 스코어 시각화\n",
        "plt.figure(figsize=(8, 6))\n",
        "plt.plot(range(2, 11), silhouette_scores, marker='o')\n",
        "plt.xlabel('Number of clusters')\n",
        "plt.ylabel('Silhouette Score')\n",
        "plt.title('Silhouette Method for Optimal Number of Clusters')\n",
        "plt.show()\n"
      ],
      "metadata": {
        "colab": {
          "base_uri": "https://localhost:8080/",
          "height": 905
        },
        "id": "SwPcosjpHI67",
        "outputId": "bdd39294-4e4f-40cc-a56e-4a1e18f6dc0a"
      },
      "execution_count": 4,
      "outputs": [
        {
          "output_type": "stream",
          "name": "stderr",
          "text": [
            "/usr/local/lib/python3.10/dist-packages/sklearn/cluster/_kmeans.py:1416: FutureWarning: The default value of `n_init` will change from 10 to 'auto' in 1.4. Set the value of `n_init` explicitly to suppress the warning\n",
            "  super()._check_params_vs_input(X, default_n_init=10)\n",
            "/usr/local/lib/python3.10/dist-packages/sklearn/cluster/_kmeans.py:1416: FutureWarning: The default value of `n_init` will change from 10 to 'auto' in 1.4. Set the value of `n_init` explicitly to suppress the warning\n",
            "  super()._check_params_vs_input(X, default_n_init=10)\n",
            "/usr/local/lib/python3.10/dist-packages/sklearn/cluster/_kmeans.py:1416: FutureWarning: The default value of `n_init` will change from 10 to 'auto' in 1.4. Set the value of `n_init` explicitly to suppress the warning\n",
            "  super()._check_params_vs_input(X, default_n_init=10)\n",
            "/usr/local/lib/python3.10/dist-packages/sklearn/cluster/_kmeans.py:1416: FutureWarning: The default value of `n_init` will change from 10 to 'auto' in 1.4. Set the value of `n_init` explicitly to suppress the warning\n",
            "  super()._check_params_vs_input(X, default_n_init=10)\n",
            "/usr/local/lib/python3.10/dist-packages/sklearn/cluster/_kmeans.py:1416: FutureWarning: The default value of `n_init` will change from 10 to 'auto' in 1.4. Set the value of `n_init` explicitly to suppress the warning\n",
            "  super()._check_params_vs_input(X, default_n_init=10)\n",
            "/usr/local/lib/python3.10/dist-packages/sklearn/cluster/_kmeans.py:1416: FutureWarning: The default value of `n_init` will change from 10 to 'auto' in 1.4. Set the value of `n_init` explicitly to suppress the warning\n",
            "  super()._check_params_vs_input(X, default_n_init=10)\n",
            "/usr/local/lib/python3.10/dist-packages/sklearn/cluster/_kmeans.py:1416: FutureWarning: The default value of `n_init` will change from 10 to 'auto' in 1.4. Set the value of `n_init` explicitly to suppress the warning\n",
            "  super()._check_params_vs_input(X, default_n_init=10)\n",
            "/usr/local/lib/python3.10/dist-packages/sklearn/cluster/_kmeans.py:1416: FutureWarning: The default value of `n_init` will change from 10 to 'auto' in 1.4. Set the value of `n_init` explicitly to suppress the warning\n",
            "  super()._check_params_vs_input(X, default_n_init=10)\n",
            "/usr/local/lib/python3.10/dist-packages/sklearn/cluster/_kmeans.py:1416: FutureWarning: The default value of `n_init` will change from 10 to 'auto' in 1.4. Set the value of `n_init` explicitly to suppress the warning\n",
            "  super()._check_params_vs_input(X, default_n_init=10)\n"
          ]
        },
        {
          "output_type": "display_data",
          "data": {
            "text/plain": [
              "<Figure size 800x600 with 1 Axes>"
            ],
            "image/png": "[encoded data removed]"
          },
          "metadata": {}
        }
      ]
    },
    {
      "cell_type": "code",
      "source": [
        "# 최적 클러스터 수 선택\n",
        "optimal_clusters = 4\n",
        "\n",
        "# K-Means\n",
        "kmeans = KMeans(n_clusters=optimal_clusters, random_state=42)\n",
        "clusters = kmeans.fit_predict(data_scaled)\n",
        "\n",
        "grid['cluster'] = clusters\n"
      ],
      "metadata": {
        "colab": {
          "base_uri": "https://localhost:8080/"
        },
        "id": "IHxUmJofltmw",
        "outputId": "9c737d8f-e215-4481-f8ad-1dac1bdcd3be"
      },
      "execution_count": 5,
      "outputs": [
        {
          "output_type": "stream",
          "name": "stderr",
          "text": [
            "/usr/local/lib/python3.10/dist-packages/sklearn/cluster/_kmeans.py:1416: FutureWarning: The default value of `n_init` will change from 10 to 'auto' in 1.4. Set the value of `n_init` explicitly to suppress the warning\n",
            "  super()._check_params_vs_input(X, default_n_init=10)\n"
          ]
        }
      ]
    },
    {
      "cell_type": "code",
      "source": [
        "# 클러스터 중심 정보 확인\n",
        "cluster_centers = pd.DataFrame(scaler.inverse_transform(kmeans.cluster_centers_), columns=features)\n",
        "cluster_centers['cluster'] = range(optimal_clusters)\n",
        "print(cluster_centers)\n",
        "# 클러스터 특성 시각화\n",
        "plt.figure(figsize=(14, 7))\n",
        "sns.barplot(data=cluster_centers.melt(id_vars='cluster'), x='variable', y='value', hue='cluster')\n",
        "plt.title('Cluster Centers by Features')\n",
        "plt.ylabel('Mean Value')\n",
        "plt.xlabel('Feature')\n",
        "plt.show()"
      ],
      "metadata": {
        "colab": {
          "base_uri": "https://localhost:8080/",
          "height": 827
        },
        "id": "CyoqHuDNl7hQ",
        "outputId": "d615ea2e-54b1-4c37-bca3-92849a19bdd5"
      },
      "execution_count": 6,
      "outputs": [
        {
          "output_type": "stream",
          "name": "stdout",
          "text": [
            "   academy_count    univ_count  subway_count  apt_count     com_count  \\\n",
            "0       4.875479  6.730727e-16 -4.336809e-15   0.612548 -1.804112e-16   \n",
            "1       4.654167 -4.857226e-17  1.087500e+00   0.491667  2.916667e-02   \n",
            "2       3.062992  3.469447e-18  7.874016e-02   0.433071  1.346457e+00   \n",
            "3       4.500000  1.230769e+00  9.615385e-02   0.480769  2.081668e-17   \n",
            "\n",
            "   lcafe_count  hcafe_count  cluster  \n",
            "0     0.374521     0.246887        0  \n",
            "1     0.545833     0.454167        1  \n",
            "2     0.787402     1.889764        2  \n",
            "3     0.480769     0.288462        3  \n"
          ]
        },
        {
          "output_type": "display_data",
          "data": {
            "text/plain": [
              "<Figure size 1400x700 with 1 Axes>"
            ],
            "image/png": "[encoded data removed]"
          },
          "metadata": {}
        }
      ]
    },
    {
      "cell_type": "code",
      "source": [
        "# 클러스터별로 그룹화하여 density_rank가 1인 구역의 수와 전체 구역 수를 계산\n",
        "cluster_density = grid.groupby('cluster').apply(lambda x: (x['density_rank'] == 1).sum() / len(x))\n",
        "\n",
        "# 비율이 가장 높은 클러스터 식별\n",
        "high_density_cluster = cluster_density.idxmax()\n",
        "\n",
        "# 해당 클러스터에 속하는 구역 필터링\n",
        "similar_regions = grid[grid['cluster'] == high_density_cluster]\n",
        "\n",
        "print(f\"Cluster {high_density_cluster} has the highest proportion of density_rank 1 regions.\")\n",
        "print(similar_regions)\n"
      ],
      "metadata": {
        "colab": {
          "base_uri": "https://localhost:8080/"
        },
        "id": "8h-7VbySRHJf",
        "outputId": "5f978e74-b254-4f6a-b6e8-0dea72cf7450"
      },
      "execution_count": 7,
      "outputs": [
        {
          "output_type": "stream",
          "name": "stdout",
          "text": [
            "Cluster 2 has the highest proportion of density_rank 1 regions.\n",
            "      school_count  academy_count  subway_count  bus_count  apt_count  \\\n",
            "158              0              5             0          4          1   \n",
            "187              0              0             0          0          0   \n",
            "190              0              1             0         12          0   \n",
            "233              0              0             0         24          0   \n",
            "249              0              2             0         28          0   \n",
            "...            ...            ...           ...        ...        ...   \n",
            "3667             0              0             0          0          0   \n",
            "3774             0              0             0          4          0   \n",
            "3897             0              0             0          8          0   \n",
            "3902             0              0             0         16          0   \n",
            "4442             0             14             1         24          0   \n",
            "\n",
            "      univ_count  lcom_count  ccom_count  lcafe_count  hcafe_count  \\\n",
            "158            0           0           1            0            0   \n",
            "187            0           0           1            0            0   \n",
            "190            0           0           2            0            0   \n",
            "233            0           0           1            2            2   \n",
            "249            0           0           1            1            0   \n",
            "...          ...         ...         ...          ...          ...   \n",
            "3667           0           0           1            0            0   \n",
            "3774           0           0           1            0            0   \n",
            "3897           0           0           3            0            0   \n",
            "3902           0           0           1            0            0   \n",
            "4442           0           0           1            3            3   \n",
            "\n",
            "                                           centroid  density  density_rank  \\\n",
            "158    POINT (127.10458600000003 37.46279400000001)        0             0   \n",
            "187            POINT (127.029586 37.46579400000001)        0             0   \n",
            "190            POINT (127.044586 37.46579400000001)        0             0   \n",
            "233            POINT (127.03858600000001 37.468794)        2             0   \n",
            "249            POINT (126.88258599999999 37.471794)        0             0   \n",
            "...                                             ...      ...           ...   \n",
            "3667           POINT (127.04758600000001 37.594794)        0             0   \n",
            "3774           POINT (127.044586 37.60079399999999)        0             0   \n",
            "3897           POINT (126.93358599999999 37.609794)        0             0   \n",
            "3902                   POINT (126.957586 37.609794)        0             0   \n",
            "4442  POINT (127.05958600000001 37.654793999999995)        3             0   \n",
            "\n",
            "      com_count  cluster  \n",
            "158           1        2  \n",
            "187           1        2  \n",
            "190           2        2  \n",
            "233           1        2  \n",
            "249           1        2  \n",
            "...         ...      ...  \n",
            "3667          1        2  \n",
            "3774          1        2  \n",
            "3897          3        2  \n",
            "3902          1        2  \n",
            "4442          1        2  \n",
            "\n",
            "[127 rows x 15 columns]\n"
          ]
        }
      ]
    },
    {
      "cell_type": "code",
      "source": [
        "# 클러스터별로 그룹화하여 density가 0이 아닌 구역의 수와 전체 구역 수를 계산\n",
        "cluster_density_nonzero = grid.groupby('cluster').apply(lambda x: (x['density'] != 0).sum() / len(x))\n",
        "\n",
        "# 비율이 가장 높은 클러스터 식별\n",
        "high_density_cluster = cluster_density_nonzero.idxmax()\n",
        "\n",
        "# 해당 클러스터에 속하는 구역 필터링\n",
        "similar_regions = grid[grid['cluster'] == high_density_cluster]\n",
        "\n",
        "print(f\"Cluster {high_density_cluster} has the highest proportion of non-zero density regions.\")\n",
        "print(similar_regions)\n"
      ],
      "metadata": {
        "colab": {
          "base_uri": "https://localhost:8080/"
        },
        "id": "8bBOHwF6epNG",
        "outputId": "27e92e22-2574-448d-99ee-ab2b0955cdb5"
      },
      "execution_count": 8,
      "outputs": [
        {
          "output_type": "stream",
          "name": "stdout",
          "text": [
            "Cluster 2 has the highest proportion of non-zero density regions.\n",
            "      school_count  academy_count  subway_count  bus_count  apt_count  \\\n",
            "158              0              5             0          4          1   \n",
            "187              0              0             0          0          0   \n",
            "190              0              1             0         12          0   \n",
            "233              0              0             0         24          0   \n",
            "249              0              2             0         28          0   \n",
            "...            ...            ...           ...        ...        ...   \n",
            "3667             0              0             0          0          0   \n",
            "3774             0              0             0          4          0   \n",
            "3897             0              0             0          8          0   \n",
            "3902             0              0             0         16          0   \n",
            "4442             0             14             1         24          0   \n",
            "\n",
            "      univ_count  lcom_count  ccom_count  lcafe_count  hcafe_count  \\\n",
            "158            0           0           1            0            0   \n",
            "187            0           0           1            0            0   \n",
            "190            0           0           2            0            0   \n",
            "233            0           0           1            2            2   \n",
            "249            0           0           1            1            0   \n",
            "...          ...         ...         ...          ...          ...   \n",
            "3667           0           0           1            0            0   \n",
            "3774           0           0           1            0            0   \n",
            "3897           0           0           3            0            0   \n",
            "3902           0           0           1            0            0   \n",
            "4442           0           0           1            3            3   \n",
            "\n",
            "                                           centroid  density  density_rank  \\\n",
            "158    POINT (127.10458600000003 37.46279400000001)        0             0   \n",
            "187            POINT (127.029586 37.46579400000001)        0             0   \n",
            "190            POINT (127.044586 37.46579400000001)        0             0   \n",
            "233            POINT (127.03858600000001 37.468794)        2             0   \n",
            "249            POINT (126.88258599999999 37.471794)        0             0   \n",
            "...                                             ...      ...           ...   \n",
            "3667           POINT (127.04758600000001 37.594794)        0             0   \n",
            "3774           POINT (127.044586 37.60079399999999)        0             0   \n",
            "3897           POINT (126.93358599999999 37.609794)        0             0   \n",
            "3902                   POINT (126.957586 37.609794)        0             0   \n",
            "4442  POINT (127.05958600000001 37.654793999999995)        3             0   \n",
            "\n",
            "      com_count  cluster  \n",
            "158           1        2  \n",
            "187           1        2  \n",
            "190           2        2  \n",
            "233           1        2  \n",
            "249           1        2  \n",
            "...         ...      ...  \n",
            "3667          1        2  \n",
            "3774          1        2  \n",
            "3897          3        2  \n",
            "3902          1        2  \n",
            "4442          1        2  \n",
            "\n",
            "[127 rows x 15 columns]\n"
          ]
        }
      ]
    },
    {
      "cell_type": "code",
      "source": [
        "# 클러스터 2에 속하는 구역\n",
        "cluster_2 = grid[grid['cluster'] == 2]\n",
        "\n",
        "# density 값 낮은 순으로 정렬\n",
        "cluster_2_sorted = cluster_2.sort_values(by='density')\n",
        "\n",
        "print(\"Cluster 2 regions sorted by density (ascending order):\")\n",
        "print(cluster_2_sorted[['centroid', 'density']])"
      ],
      "metadata": {
        "colab": {
          "base_uri": "https://localhost:8080/"
        },
        "id": "xvx1A0dwp8Ub",
        "outputId": "ab33324b-5838-43ec-ee1a-9974a3bb0d7c"
      },
      "execution_count": 10,
      "outputs": [
        {
          "output_type": "stream",
          "name": "stdout",
          "text": [
            "Cluster 2 regions sorted by density (ascending order):\n",
            "                                           centroid  density\n",
            "158    POINT (127.10458600000003 37.46279400000001)        0\n",
            "2160           POINT (127.089586 37.53779399999999)        0\n",
            "2081           POINT (127.08658600000001 37.534794)        0\n",
            "2056           POINT (126.96958599999999 37.534794)        0\n",
            "2001  POINT (127.08658600000001 37.531794000000005)        0\n",
            "...                                             ...      ...\n",
            "1823   POINT (126.92158599999999 37.52579399999999)        7\n",
            "2875                   POINT (126.972586 37.561794)        8\n",
            "3053           POINT (126.98158600000002 37.567794)       10\n",
            "2878           POINT (126.98158600000002 37.561794)       12\n",
            "1543                   POINT (127.056586 37.513794)       53\n",
            "\n",
            "[127 rows x 2 columns]\n"
          ]
        }
      ]
    },
    {
      "cell_type": "code",
      "source": [
        "cluster_2_sorted = grid[grid['cluster'] == 2].sort_values(by='density')\n",
        "# 필요한 열만 선택\n",
        "cluster_2_sorted = cluster_2_sorted[['centroid', 'density']]\n",
        "# 엑셀 파일로 저장\n",
        "output_file_path = 'cluster_2_sorted.xlsx'\n",
        "cluster_2_sorted.to_excel(output_file_path, index=False)\n",
        "\n",
        "files.download(output_file_path)"
      ],
      "metadata": {
        "colab": {
          "base_uri": "https://localhost:8080/",
          "height": 17
        },
        "id": "mIb78hHtvtgd",
        "outputId": "62fcd8d0-1b8c-48fe-bc6d-ea91c1d68a1a"
      },
      "execution_count": 12,
      "outputs": [
        {
          "output_type": "display_data",
          "data": {
            "text/plain": [
              "<IPython.core.display.Javascript object>"
            ],
            "application/javascript": [
              "\n",
              "    async function download(id, filename, size) {\n",
              "      if (!google.colab.kernel.accessAllowed) {\n",
              "        return;\n",
              "      }\n",
              "      const div = document.createElement('div');\n",
              "      const label = document.createElement('label');\n",
              "      label.textContent = `Downloading \"${filename}\": `;\n",
              "      div.appendChild(label);\n",
              "      const progress = document.createElement('progress');\n",
              "      progress.max = size;\n",
              "      div.appendChild(progress);\n",
              "      document.body.appendChild(div);\n",
              "\n",
              "      const buffers = [];\n",
              "      let downloaded = 0;\n",
              "\n",
              "      const channel = await google.colab.kernel.comms.open(id);\n",
              "      // Send a message to notify the kernel that we're ready.\n",
              "      channel.send({})\n",
              "\n",
              "      for await (const message of channel.messages) {\n",
              "        // Send a message to notify the kernel that we're ready.\n",
              "        channel.send({})\n",
              "        if (message.buffers) {\n",
              "          for (const buffer of message.buffers) {\n",
              "            buffers.push(buffer);\n",
              "            downloaded += buffer.byteLength;\n",
              "            progress.value = downloaded;\n",
              "          }\n",
              "        }\n",
              "      }\n",
              "      const blob = new Blob(buffers, {type: 'application/binary'});\n",
              "      const a = document.createElement('a');\n",
              "      a.href = window.URL.createObjectURL(blob);\n",
              "      a.download = filename;\n",
              "      div.appendChild(a);\n",
              "      a.click();\n",
              "      div.remove();\n",
              "    }\n",
              "  "
            ]
          },
          "metadata": {}
        },
        {
          "output_type": "display_data",
          "data": {
            "text/plain": [
              "<IPython.core.display.Javascript object>"
            ],
            "application/javascript": [
              "download(\"download_9094ab37-183f-4834-8561-2980b6c69ec1\", \"cluster_2_sorted.xlsx\", 6869)"
            ]
          },
          "metadata": {}
        }
      ]
    }
  ]
}