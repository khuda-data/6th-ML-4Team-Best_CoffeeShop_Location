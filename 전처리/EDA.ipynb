{
 "cells": [
  {
   "cell_type": "code",
   "execution_count": 1,
   "metadata": {},
   "outputs": [],
   "source": [
    "import pandas as pd\n",
    "import numpy as np"
   ]
  },
  {
   "cell_type": "code",
   "execution_count": 6,
   "metadata": {},
   "outputs": [],
   "source": [
    "df_low =  pd.read_csv('C:/Users/pjung/OneDrive/문서/정현/동아리/쿠다/TP/저가형(최종).csv')\n",
    "df_midlow = pd.read_csv('C:/Users/pjung/OneDrive/문서/정현/동아리/쿠다/TP/중저가형(최종).csv')\n",
    "df_high = pd.read_csv('C:/Users/pjung/OneDrive/문서/정현/동아리/쿠다/TP/고가형(최종).csv')"
   ]
  },
  {
   "cell_type": "code",
   "execution_count": 8,
   "metadata": {},
   "outputs": [
    {
     "name": "stdout",
     "output_type": "stream",
     "text": [
      "<class 'pandas.core.frame.DataFrame'>\n",
      "RangeIndex: 1500 entries, 0 to 1499\n",
      "Data columns (total 22 columns):\n",
      " #   Column        Non-Null Count  Dtype  \n",
      "---  ------        --------------  -----  \n",
      " 0   Unnamed: 0.3  1500 non-null   int64  \n",
      " 1   Unnamed: 0.2  1500 non-null   float64\n",
      " 2   Unnamed: 0.1  1500 non-null   float64\n",
      " 3   Unnamed: 0    1500 non-null   float64\n",
      " 4   사업장명          1500 non-null   object \n",
      " 5   인허가일자         1500 non-null   object \n",
      " 6   영업상태명         1500 non-null   object \n",
      " 7   폐업일자          562 non-null    object \n",
      " 8   지번주소          1500 non-null   object \n",
      " 9   도로명주소         1431 non-null   object \n",
      " 10  좌표정보(X)       1500 non-null   float64\n",
      " 11  좌표정보(Y)       1500 non-null   float64\n",
      " 12  소재지면적         1474 non-null   object \n",
      " 13  가격대           1500 non-null   object \n",
      " 14  위도            1500 non-null   float64\n",
      " 15  경도            1500 non-null   float64\n",
      " 16  지하철역과거리       1500 non-null   float64\n",
      " 17  주변저가형카페수      1500 non-null   float64\n",
      " 18  주변중저가형카페수     1500 non-null   float64\n",
      " 19  주변고가형카페수      1500 non-null   float64\n",
      " 20  주변평균월세        1479 non-null   float64\n",
      " 21  주변유동인구수       1500 non-null   float64\n",
      "dtypes: float64(13), int64(1), object(8)\n",
      "memory usage: 257.9+ KB\n",
      "<class 'pandas.core.frame.DataFrame'>\n",
      "RangeIndex: 1170 entries, 0 to 1169\n",
      "Data columns (total 23 columns):\n",
      " #   Column        Non-Null Count  Dtype  \n",
      "---  ------        --------------  -----  \n",
      " 0   Unnamed: 0.4  1170 non-null   int64  \n",
      " 1   Unnamed: 0.3  1170 non-null   float64\n",
      " 2   Unnamed: 0.2  1170 non-null   float64\n",
      " 3   Unnamed: 0.1  1170 non-null   float64\n",
      " 4   Unnamed: 0    1170 non-null   float64\n",
      " 5   사업장명          1170 non-null   object \n",
      " 6   인허가일자         1170 non-null   object \n",
      " 7   영업상태명         1170 non-null   object \n",
      " 8   폐업일자          32 non-null     object \n",
      " 9   지번주소          1170 non-null   object \n",
      " 10  도로명주소         1170 non-null   object \n",
      " 11  좌표정보(X)       1170 non-null   float64\n",
      " 12  좌표정보(Y)       1170 non-null   float64\n",
      " 13  소재지면적         1169 non-null   float64\n",
      " 14  가격대           1170 non-null   object \n",
      " 15  위도            1170 non-null   float64\n",
      " 16  경도            1170 non-null   float64\n",
      " 17  지하철역과거리       1170 non-null   float64\n",
      " 18  주변저가형카페수      1170 non-null   float64\n",
      " 19  주변중저가형카페수     1170 non-null   float64\n",
      " 20  주변고가형카페수      1170 non-null   float64\n",
      " 21  주변평균월세        1143 non-null   float64\n",
      " 22  주변유동인구수       1170 non-null   float64\n",
      "dtypes: float64(15), int64(1), object(7)\n",
      "memory usage: 210.4+ KB\n",
      "<class 'pandas.core.frame.DataFrame'>\n",
      "RangeIndex: 678 entries, 0 to 677\n",
      "Data columns (total 22 columns):\n",
      " #   Column        Non-Null Count  Dtype  \n",
      "---  ------        --------------  -----  \n",
      " 0   Unnamed: 0.3  678 non-null    int64  \n",
      " 1   Unnamed: 0.2  678 non-null    float64\n",
      " 2   Unnamed: 0.1  678 non-null    float64\n",
      " 3   Unnamed: 0    678 non-null    float64\n",
      " 4   사업장명          678 non-null    object \n",
      " 5   인허가일자         678 non-null    object \n",
      " 6   영업상태명         678 non-null    object \n",
      " 7   폐업일자          245 non-null    object \n",
      " 8   지번주소          677 non-null    object \n",
      " 9   도로명주소         663 non-null    object \n",
      " 10  좌표정보(X)       678 non-null    float64\n",
      " 11  좌표정보(Y)       678 non-null    float64\n",
      " 12  소재지면적         663 non-null    object \n",
      " 13  가격대           678 non-null    object \n",
      " 14  위도            678 non-null    float64\n",
      " 15  경도            678 non-null    float64\n",
      " 16  지하철역과거리       678 non-null    float64\n",
      " 17  주변저가형카페수      678 non-null    float64\n",
      " 18  주변중저가형카페수     678 non-null    float64\n",
      " 19  주변고가형카페수      678 non-null    float64\n",
      " 20  주변평균월세        669 non-null    float64\n",
      " 21  주변유동인구수       678 non-null    float64\n",
      "dtypes: float64(13), int64(1), object(8)\n",
      "memory usage: 116.7+ KB\n"
     ]
    }
   ],
   "source": [
    "df_high.info()\n",
    "df_low.info()\n",
    "df_midlow.info()"
   ]
  },
  {
   "cell_type": "code",
   "execution_count": 17,
   "metadata": {},
   "outputs": [
    {
     "name": "stdout",
     "output_type": "stream",
     "text": [
      "폐업일자      1138\n",
      "소재지면적        1\n",
      "주변평균월세      27\n",
      "dtype: int64\n",
      "폐업일자      433\n",
      "지번주소        1\n",
      "도로명주소      15\n",
      "소재지면적      15\n",
      "주변평균월세      9\n",
      "dtype: int64\n",
      "폐업일자      938\n",
      "도로명주소      69\n",
      "소재지면적      26\n",
      "주변평균월세     21\n",
      "dtype: int64\n"
     ]
    }
   ],
   "source": [
    "#누락된값 합계\n",
    "missing_low = df_low.isnull().sum()\n",
    "print(missing_low[missing_low> 0])\n",
    "\n",
    "missing_midlow = df_midlow.isnull().sum()\n",
    "print(missing_midlow[missing_midlow > 0])\n",
    "\n",
    "\n",
    "missing_high = df_high.isnull().sum()\n",
    "print(missing_high[missing_high > 0])"
   ]
  },
  {
   "cell_type": "code",
   "execution_count": 18,
   "metadata": {},
   "outputs": [
    {
     "name": "stdout",
     "output_type": "stream",
     "text": [
      "     Count  Average Distance to Subway  Average Monthly Rent\n",
      "가격대                                                         \n",
      "고가    1500                    0.518966             52.873451\n",
      "저가    1170                    0.673559             46.099154\n",
      "중저가    678                    0.661922             46.873659\n"
     ]
    }
   ],
   "source": [
    "#각 커피숍 유형별로 지하철역까지의 거리, 주변 평균 월 임대료 출력\n",
    "\n",
    "# Combine all dataframes into one for unified analysis\n",
    "all_coffee_shops = pd.concat([df_high,df_low, df_midlow])\n",
    "\n",
    "# Select relevant columns\n",
    "coffee_shop_summary = all_coffee_shops[['사업장명', '영업상태명', '지하철역과거리', '주변평균월세', '가격대']]\n",
    "\n",
    "# Display data grouped by shop type (price category)\n",
    "coffee_shop_grouped = coffee_shop_summary.groupby('가격대').agg({\n",
    "    '사업장명': 'count',\n",
    "    '지하철역과거리': 'mean',\n",
    "    '주변평균월세': 'mean'\n",
    "}).rename(columns={'사업장명': 'Count', '지하철역과거리': 'Average Distance to Subway', '주변평균월세': 'Average Monthly Rent'})\n",
    "\n",
    "print(coffee_shop_grouped)\n"
   ]
  },
  {
   "cell_type": "code",
   "execution_count": 25,
   "metadata": {},
   "outputs": [
    {
     "data": {
      "image/png": "[encoded data removed]",
      "text/plain": [
       "<Figure size 1000x600 with 1 Axes>"
      ]
     },
     "metadata": {},
     "output_type": "display_data"
    }
   ],
   "source": [
    "#월 임대료 박스플롯으로 나타내기\n",
    "\n",
    "import matplotlib.pyplot as plt\n",
    "import seaborn as sns\n",
    "import matplotlib.font_manager as fm\n",
    "\n",
    "# Set the font to support Korean characters\n",
    "plt.rc('font', family='NanumGothic')  # Replace with a font that is available on your system\n",
    "\n",
    "# Reset the index to avoid any duplicate index issues\n",
    "all_coffee_shops.reset_index(drop=True, inplace=True)\n",
    "\n",
    "# Check for duplicates in the '가격대' column and remove them\n",
    "all_coffee_shops = all_coffee_shops.drop_duplicates(subset=['가격대', '주변평균월세'])\n",
    "\n",
    "# Plot distribution of monthly rental fees by coffee shop type with adjusted y-axis scale\n",
    "plt.figure(figsize=(10, 6))\n",
    "sns.boxplot(x='가격대', y='주변평균월세', data=all_coffee_shops)\n",
    "\n",
    "# Set y-axis limits to make the scale smaller and focus on a specific range\n",
    "plt.ylim(0, 100)  # Adjust this range based on your data\n",
    "\n",
    "plt.title('커피숍 유형에 따른 월세 박스플롯')\n",
    "plt.xlabel('커피숍 유형')\n",
    "plt.ylabel('평균 월세')\n",
    "plt.show()\n"
   ]
  },
  {
   "cell_type": "code",
   "execution_count": 26,
   "metadata": {},
   "outputs": [
    {
     "name": "stdout",
     "output_type": "stream",
     "text": [
      "영업상태명     영업/정상        폐업  Open/Closed Ratio\n",
      "가격대                                         \n",
      "고가     0.907407  0.092593           9.800000\n",
      "저가     0.962963  0.037037          26.000000\n",
      "중저가    0.592593  0.407407           1.454545\n"
     ]
    }
   ],
   "source": [
    "#카페 유형별 영업/폐업 비율\n",
    "\n",
    "# Calculate the opening and closing ratio\n",
    "opening_closing_ratio = all_coffee_shops.groupby('가격대')['영업상태명'].value_counts(normalize=True).unstack().fillna(0)\n",
    "opening_closing_ratio['Open/Closed Ratio'] = opening_closing_ratio.get('영업/정상', 0) / opening_closing_ratio.get('폐업', 1)\n",
    "\n",
    "print(opening_closing_ratio[['영업/정상', '폐업', 'Open/Closed Ratio']])\n"
   ]
  },
  {
   "cell_type": "code",
   "execution_count": 27,
   "metadata": {},
   "outputs": [
    {
     "name": "stdout",
     "output_type": "stream",
     "text": [
      "가격대\n",
      "고가     2336.641509\n",
      "저가      495.941176\n",
      "중저가    2371.638889\n",
      "Name: 영업기간, dtype: float64\n"
     ]
    }
   ],
   "source": [
    "#카페 유형별 평균 영업일 수\n",
    "\n",
    "from datetime import datetime\n",
    "\n",
    "# Convert date columns to datetime\n",
    "all_coffee_shops['인허가일자'] = pd.to_datetime(all_coffee_shops['인허가일자'], errors='coerce')\n",
    "all_coffee_shops['폐업일자'] = pd.to_datetime(all_coffee_shops['폐업일자'], errors='coerce')\n",
    "\n",
    "# Calculate the business period\n",
    "current_date = datetime.now()\n",
    "all_coffee_shops['영업기간'] = all_coffee_shops.apply(\n",
    "    lambda row: (current_date - row['인허가일자']).days if pd.isna(row['폐업일자']) else (row['폐업일자'] - row['인허가일자']).days, axis=1)\n",
    "\n",
    "# Display average business period by shop type\n",
    "average_business_period = all_coffee_shops.groupby('가격대')['영업기간'].mean()\n",
    "print(average_business_period)\n"
   ]
  },
  {
   "cell_type": "code",
   "execution_count": 28,
   "metadata": {},
   "outputs": [
    {
     "name": "stdout",
     "output_type": "stream",
     "text": [
      "     소재지면적     주변평균월세\n",
      "0     5.46  47.677778\n",
      "1    16.56  62.022222\n",
      "2    16.78  63.377778\n",
      "3     23.0  84.788889\n",
      "4     27.0  64.444444\n",
      "..     ...        ...\n",
      "150   80.0  43.183333\n",
      "151  83.66  70.855556\n",
      "152  83.82  84.788889\n",
      "153  97.02  46.533333\n",
      "154   97.5  26.588889\n",
      "\n",
      "[155 rows x 2 columns]\n"
     ]
    }
   ],
   "source": [
    "#소재지 면적에 따른 평균 월세 \n",
    "\n",
    "# Analyze average rent according to usage area\n",
    "average_rent_by_area = all_coffee_shops.groupby('소재지면적')['주변평균월세'].mean().reset_index()\n",
    "\n",
    "print(average_rent_by_area)\n"
   ]
  },
  {
   "cell_type": "code",
   "execution_count": 34,
   "metadata": {},
   "outputs": [
    {
     "name": "stdout",
     "output_type": "stream",
     "text": [
      "            지하철역과거리  주변저가형카페수  주변중저가형카페수  주변고가형카페수    주변평균월세   주변유동인구수  \\\n",
      "지하철역과거리    1.000000 -0.127626  -0.172206 -0.207424 -0.093087 -0.172378   \n",
      "주변저가형카페수  -0.127626  1.000000   0.400622  0.204860  0.088656  0.115711   \n",
      "주변중저가형카페수 -0.172206  0.400622   1.000000  0.391003  0.130406  0.094604   \n",
      "주변고가형카페수  -0.207424  0.204860   0.391003  1.000000  0.261903  0.232786   \n",
      "주변평균월세    -0.093087  0.088656   0.130406  0.261903  1.000000  0.068030   \n",
      "주변유동인구수   -0.172378  0.115711   0.094604  0.232786  0.068030  1.000000   \n",
      "영업일수      -0.055204  0.171008  -0.032804 -0.143369  0.010947  0.011725   \n",
      "\n",
      "               영업일수  \n",
      "지하철역과거리   -0.055204  \n",
      "주변저가형카페수   0.171008  \n",
      "주변중저가형카페수 -0.032804  \n",
      "주변고가형카페수  -0.143369  \n",
      "주변평균월세     0.010947  \n",
      "주변유동인구수    0.011725  \n",
      "영업일수       1.000000  \n"
     ]
    }
   ],
   "source": [
    "#상관관계 분석\n",
    "import pandas as pd\n",
    "from datetime import datetime\n",
    "import numpy as np\n",
    "\n",
    "# Convert date columns to datetime format\n",
    "all_coffee_shops['인허가일자'] = pd.to_datetime(all_coffee_shops['인허가일자'], format='%Y%m%d', errors='coerce')\n",
    "all_coffee_shops['폐업일자'] = pd.to_datetime(all_coffee_shops['폐업일자'], format='%Y%m%d', errors='coerce')\n",
    "\n",
    "# Define a function to calculate business days between two dates\n",
    "def calculate_business_days(row):\n",
    "    start_date = row['인허가일자']\n",
    "    if pd.isna(start_date):\n",
    "        return np.nan  # Return NaN if the start date is missing\n",
    "    \n",
    "    if pd.isna(row['폐업일자']):\n",
    "        # If still open, calculate business days from permit date to today\n",
    "        end_date = np.datetime64(datetime.now().date())\n",
    "    else:\n",
    "        # If closed, calculate business days from permit date to closure date\n",
    "        end_date = np.datetime64(row['폐업일자'].date())\n",
    "        \n",
    "    # Convert start_date to numpy datetime64\n",
    "    start_date = np.datetime64(start_date.date())\n",
    "    \n",
    "    return np.busday_count(start_date, end_date)\n",
    "\n",
    "# Apply the function to calculate business days and create a new column\n",
    "all_coffee_shops['영업일수'] = all_coffee_shops.apply(calculate_business_days, axis=1)\n",
    "\n",
    "# Select only numeric columns for correlation calculation, including the new '영업일수' column\n",
    "columns_to_exclude = ['좌표정보(X)', '좌표정보(Y)', '위도', '경도'] + [col for col in all_coffee_shops.columns if 'Unnamed' in col]\n",
    "numeric_cols = all_coffee_shops.drop(columns=columns_to_exclude).select_dtypes(include=['number'])\n",
    "\n",
    "# Calculate the correlation matrix for the numeric columns only\n",
    "correlation_matrix = numeric_cols.corr()\n",
    "\n",
    "# Display the correlation matrix\n",
    "print(correlation_matrix)\n"
   ]
  },
  {
   "cell_type": "code",
   "execution_count": null,
   "metadata": {},
   "outputs": [],
   "source": []
  },
  {
   "cell_type": "code",
   "execution_count": null,
   "metadata": {},
   "outputs": [],
   "source": []
  }
 ],
 "metadata": {
  "kernelspec": {
   "display_name": "Python 3",
   "language": "python",
   "name": "python3"
  },
  "language_info": {
   "codemirror_mode": {
    "name": "ipython",
    "version": 3
   },
   "file_extension": ".py",
   "mimetype": "text/x-python",
   "name": "python",
   "nbconvert_exporter": "python",
   "pygments_lexer": "ipython3",
   "version": "3.12.3"
  }
 },
 "nbformat": 4,
 "nbformat_minor": 2
}
